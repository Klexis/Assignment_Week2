{
 "cells": [
  {
   "cell_type": "code",
   "execution_count": 23,
   "metadata": {},
   "outputs": [],
   "source": [
    "import pandas as pd\n",
    "import numpy as np\n",
    "import matplotlib.pyplot as plt"
   ]
  },
  {
   "cell_type": "code",
   "execution_count": 24,
   "metadata": {},
   "outputs": [],
   "source": [
    "a=np.random.rand(20)"
   ]
  },
  {
   "cell_type": "code",
   "execution_count": 33,
   "metadata": {
    "scrolled": true
   },
   "outputs": [
    {
     "data": {
      "text/plain": [
       "(array([1., 2., 1., 2., 1., 3., 2., 1., 1., 6.]),\n",
       " array([0.01307962, 0.10826804, 0.20345645, 0.29864487, 0.39383328,\n",
       "        0.4890217 , 0.58421012, 0.67939853, 0.77458695, 0.86977536,\n",
       "        0.96496378]),\n",
       " <a list of 10 Patch objects>)"
      ]
     },
     "execution_count": 33,
     "metadata": {},
     "output_type": "execute_result"
    },
    {
     "data": {
      "image/png": "[encoded data removed]",
      "text/plain": [
       "<Figure size 432x288 with 1 Axes>"
      ]
     },
     "metadata": {
      "needs_background": "light"
     },
     "output_type": "display_data"
    }
   ],
   "source": [
    "plt.hist(a)"
   ]
  },
  {
   "cell_type": "code",
   "execution_count": 38,
   "metadata": {
    "scrolled": true
   },
   "outputs": [
    {
     "data": {
      "text/plain": [
       "(array([11.,  6.,  5.,  8.,  8.,  9.,  7.,  7.,  5.,  4.,  8.,  4., 10.,\n",
       "        10.,  4.,  8.,  5., 17.,  6.,  6.,  6.,  5.,  4.,  4.,  6.,  3.,\n",
       "         5., 11.,  2.,  6.]),\n",
       " array([0.00201711, 0.03514123, 0.06826535, 0.10138948, 0.1345136 ,\n",
       "        0.16763772, 0.20076184, 0.23388596, 0.26701009, 0.30013421,\n",
       "        0.33325833, 0.36638245, 0.39950657, 0.4326307 , 0.46575482,\n",
       "        0.49887894, 0.53200306, 0.56512718, 0.59825131, 0.63137543,\n",
       "        0.66449955, 0.69762367, 0.73074779, 0.76387192, 0.79699604,\n",
       "        0.83012016, 0.86324428, 0.8963684 , 0.92949253, 0.96261665,\n",
       "        0.99574077]),\n",
       " <a list of 30 Patch objects>)"
      ]
     },
     "execution_count": 38,
     "metadata": {},
     "output_type": "execute_result"
    },
    {
     "data": {
      "image/png": "[encoded data removed]",
      "text/plain": [
       "<Figure size 432x288 with 1 Axes>"
      ]
     },
     "metadata": {
      "needs_background": "light"
     },
     "output_type": "display_data"
    }
   ],
   "source": [
    "a=np.random.rand(200)\n",
    "plt.hist(a, bins = 30)"
   ]
  },
  {
   "cell_type": "code",
   "execution_count": 37,
   "metadata": {
    "scrolled": true
   },
   "outputs": [
    {
     "data": {
      "text/plain": [
       "(array([59., 44., 46., 48., 49., 56., 47., 53., 51., 47.]),\n",
       " array([0.00441394, 0.10378308, 0.20315221, 0.30252135, 0.40189049,\n",
       "        0.50125962, 0.60062876, 0.6999979 , 0.79936703, 0.89873617,\n",
       "        0.9981053 ]),\n",
       " <a list of 10 Patch objects>)"
      ]
     },
     "execution_count": 37,
     "metadata": {},
     "output_type": "execute_result"
    },
    {
     "data": {
      "image/png": "[encoded data removed]",
      "text/plain": [
       "<Figure size 432x288 with 1 Axes>"
      ]
     },
     "metadata": {
      "needs_background": "light"
     },
     "output_type": "display_data"
    }
   ],
   "source": [
    "a=np.random.rand(500)\n",
    "plt.hist(a)"
   ]
  },
  {
   "cell_type": "markdown",
   "metadata": {},
   "source": [
    "The shape of the curve is more or less uniform. As we increase the number of random numbers the plot becomes more and more uniform, this is because the rand function creates the random numbers following a uniform distribution.  "
   ]
  },
  {
   "cell_type": "code",
   "execution_count": 84,
   "metadata": {},
   "outputs": [
    {
     "data": {
      "text/plain": [
       "(array([  3.,   9.,  34.,  75., 102., 115.,  93.,  51.,  12.,   6.]),\n",
       " array([-30.92805841, -25.00103213, -19.07400586, -13.14697958,\n",
       "         -7.2199533 ,  -1.29292702,   4.63409925,  10.56112553,\n",
       "         16.48815181,  22.41517809,  28.34220437]),\n",
       " <a list of 10 Patch objects>)"
      ]
     },
     "execution_count": 84,
     "metadata": {},
     "output_type": "execute_result"
    },
    {
     "data": {
      "image/png": "[encoded data removed]",
      "text/plain": [
       "<Figure size 432x288 with 1 Axes>"
      ]
     },
     "metadata": {
      "needs_background": "light"
     },
     "output_type": "display_data"
    }
   ],
   "source": [
    "a=np.random.normal(0,10,500)\n",
    "plt.hist(a)"
   ]
  },
  {
   "cell_type": "markdown",
   "metadata": {},
   "source": [
    "almost symmeteric or bell-shaped"
   ]
  },
  {
   "cell_type": "code",
   "execution_count": 86,
   "metadata": {},
   "outputs": [
    {
     "data": {
      "text/plain": [
       "(array([  27.,  196.,  628., 1076., 1294.,  974.,  526.,  217.,   52.,\n",
       "          10.]),\n",
       " array([0. , 0.9, 1.8, 2.7, 3.6, 4.5, 5.4, 6.3, 7.2, 8.1, 9. ]),\n",
       " <a list of 10 Patch objects>)"
      ]
     },
     "execution_count": 86,
     "metadata": {},
     "output_type": "execute_result"
    },
    {
     "data": {
      "image/png": "[encoded data removed]",
      "text/plain": [
       "<Figure size 432x288 with 1 Axes>"
      ]
     },
     "metadata": {
      "needs_background": "light"
     },
     "output_type": "display_data"
    }
   ],
   "source": [
    "a=np.random.binomial(10,0.4,5000)\n",
    "plt.hist(a)"
   ]
  },
  {
   "cell_type": "markdown",
   "metadata": {},
   "source": [
    "almost symmetric or bell-shaped"
   ]
  },
  {
   "cell_type": "code",
   "execution_count": 63,
   "metadata": {},
   "outputs": [
    {
     "data": {
      "text/plain": [
       "(array([263., 130.,  55.,  24.,  12.,   7.,   4.,   3.,   0.,   2.]),\n",
       " array([1.97082481e-03, 1.42562536e+00, 2.84927989e+00, 4.27293442e+00,\n",
       "        5.69658896e+00, 7.12024349e+00, 8.54389802e+00, 9.96755255e+00,\n",
       "        1.13912071e+01, 1.28148616e+01, 1.42385162e+01]),\n",
       " <a list of 10 Patch objects>)"
      ]
     },
     "execution_count": 63,
     "metadata": {},
     "output_type": "execute_result"
    },
    {
     "data": {
      "image/png": "[encoded data removed]",
      "text/plain": [
       "<Figure size 432x288 with 1 Axes>"
      ]
     },
     "metadata": {
      "needs_background": "light"
     },
     "output_type": "display_data"
    }
   ],
   "source": [
    "a=np.random.chisquare(2,500)\n",
    "plt.hist(a)"
   ]
  },
  {
   "cell_type": "markdown",
   "metadata": {},
   "source": [
    "skewed-right"
   ]
  },
  {
   "cell_type": "code",
   "execution_count": 87,
   "metadata": {},
   "outputs": [
    {
     "data": {
      "text/plain": [
       "(array([7.2000e+02, 4.3170e+03, 1.0680e+04, 2.0317e+04, 8.3900e+03,\n",
       "        3.9080e+03, 1.4600e+03, 1.6700e+02, 3.3000e+01, 8.0000e+00]),\n",
       " array([ 0. ,  2.3,  4.6,  6.9,  9.2, 11.5, 13.8, 16.1, 18.4, 20.7, 23. ]),\n",
       " <a list of 10 Patch objects>)"
      ]
     },
     "execution_count": 87,
     "metadata": {},
     "output_type": "execute_result"
    },
    {
     "data": {
      "image/png": "[encoded data removed]",
      "text/plain": [
       "<Figure size 432x288 with 1 Axes>"
      ]
     },
     "metadata": {
      "needs_background": "light"
     },
     "output_type": "display_data"
    }
   ],
   "source": [
    "a=np.random.poisson(8,50000)\n",
    "plt.hist(a)"
   ]
  },
  {
   "cell_type": "markdown",
   "metadata": {},
   "source": [
    "bell-shaped"
   ]
  },
  {
   "cell_type": "code",
   "execution_count": 83,
   "metadata": {},
   "outputs": [
    {
     "data": {
      "text/plain": [
       "(array([146.,  23.,  16.,   5.,   2.,   2.,   1.,   1.,   1.,   3.]),\n",
       " array([ 0.37435485, 10.3191369 , 20.26391895, 30.208701  , 40.15348305,\n",
       "        50.0982651 , 60.04304715, 69.9878292 , 79.93261125, 89.8773933 ,\n",
       "        99.82217535]),\n",
       " <a list of 10 Patch objects>)"
      ]
     },
     "execution_count": 83,
     "metadata": {},
     "output_type": "execute_result"
    },
    {
     "data": {
      "image/png": "[encoded data removed]",
      "text/plain": [
       "<Figure size 432x288 with 1 Axes>"
      ]
     },
     "metadata": {
      "needs_background": "light"
     },
     "output_type": "display_data"
    }
   ],
   "source": [
    "a=np.random.wald(10,5,200)\n",
    "plt.hist(a)"
   ]
  },
  {
   "cell_type": "markdown",
   "metadata": {},
   "source": [
    "Exponentially skewed-right"
   ]
  },
  {
   "cell_type": "code",
   "execution_count": null,
   "metadata": {},
   "outputs": [],
   "source": []
  }
 ],
 "metadata": {
  "kernelspec": {
   "display_name": "Python 3",
   "language": "python",
   "name": "python3"
  },
  "language_info": {
   "codemirror_mode": {
    "name": "ipython",
    "version": 3
   },
   "file_extension": ".py",
   "mimetype": "text/x-python",
   "name": "python",
   "nbconvert_exporter": "python",
   "pygments_lexer": "ipython3",
   "version": "3.7.3"
  }
 },
 "nbformat": 4,
 "nbformat_minor": 2
}
